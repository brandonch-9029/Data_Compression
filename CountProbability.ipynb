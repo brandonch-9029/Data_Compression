{
 "cells": [
  {
   "cell_type": "code",
   "execution_count": 60,
   "id": "45a9a767-2112-4354-9de9-acafb72ada05",
   "metadata": {},
   "outputs": [],
   "source": [
    "from collections import Counter\n",
    "import numpy as np\n",
    "from scipy.fftpack import dct, idct\n",
    "from implementations import jpeg, matrix_basics, wavelet"
   ]
  },
  {
   "cell_type": "markdown",
   "id": "2c9e770c-d7c5-436b-9d82-f2878eeff9e4",
   "metadata": {
    "jp-MarkdownHeadingCollapsed": true
   },
   "source": [
    "# String Counter and Probability"
   ]
  },
  {
   "cell_type": "code",
   "execution_count": 11,
   "id": "61b4d21a-ba8c-4489-ad6c-621d7f77807d",
   "metadata": {},
   "outputs": [],
   "source": [
    "mystring = \"traduttore=traditore\""
   ]
  },
  {
   "cell_type": "code",
   "execution_count": 12,
   "id": "3fba0cec-4601-44f0-a580-aa850e7248e3",
   "metadata": {},
   "outputs": [],
   "source": [
    "x = Counter(mystring)"
   ]
  },
  {
   "cell_type": "code",
   "execution_count": 15,
   "id": "55045f90-1059-4037-b468-740fc7b919ec",
   "metadata": {},
   "outputs": [
    {
     "data": {
      "text/plain": [
       "[('t', 5),\n",
       " ('r', 4),\n",
       " ('a', 2),\n",
       " ('d', 2),\n",
       " ('o', 2),\n",
       " ('e', 2),\n",
       " ('u', 1),\n",
       " ('=', 1),\n",
       " ('i', 1)]"
      ]
     },
     "execution_count": 15,
     "metadata": {},
     "output_type": "execute_result"
    }
   ],
   "source": [
    "Counter(mystring).most_common()"
   ]
  },
  {
   "cell_type": "code",
   "execution_count": 13,
   "id": "610e880c-778b-4c5f-af5a-92eb2488068c",
   "metadata": {},
   "outputs": [
    {
     "name": "stdout",
     "output_type": "stream",
     "text": [
      "20.0\n"
     ]
    }
   ],
   "source": [
    "total = sum(x.values(), 0.0)\n",
    "print(total)\n",
    "for key in x:\n",
    "    x[key] /= total"
   ]
  },
  {
   "cell_type": "code",
   "execution_count": 14,
   "id": "487c6759-85d6-442d-a53e-71f2dc733ef5",
   "metadata": {},
   "outputs": [
    {
     "data": {
      "text/plain": [
       "[('t', 0.25),\n",
       " ('r', 0.2),\n",
       " ('a', 0.1),\n",
       " ('d', 0.1),\n",
       " ('o', 0.1),\n",
       " ('e', 0.1),\n",
       " ('u', 0.05),\n",
       " ('=', 0.05),\n",
       " ('i', 0.05)]"
      ]
     },
     "execution_count": 14,
     "metadata": {},
     "output_type": "execute_result"
    }
   ],
   "source": [
    "Counter(x).most_common()"
   ]
  },
  {
   "cell_type": "code",
   "execution_count": null,
   "id": "9c06b30f-b219-4746-923c-7e6bcbed3e78",
   "metadata": {},
   "outputs": [],
   "source": []
  },
  {
   "cell_type": "markdown",
   "id": "5b8a4c02-4ddc-43bf-8187-74a811d6f436",
   "metadata": {
    "jp-MarkdownHeadingCollapsed": true
   },
   "source": [
    "# DCT Transform of a 4x4 Matrix"
   ]
  },
  {
   "cell_type": "code",
   "execution_count": 70,
   "id": "8d37b293-2231-4e84-9278-03d0e0d308dc",
   "metadata": {},
   "outputs": [],
   "source": [
    "# 4x4 array\n",
    "X = np.array([[10, 3, 5, 1], \n",
    "              [2, 4, 6, 8],\n",
    "              [12, 7, 0, 0],\n",
    "              [3, 8, 1, 2]], np.float64)"
   ]
  },
  {
   "cell_type": "code",
   "execution_count": 81,
   "id": "2c5a80a9-61c3-4742-a819-d4afdea97f4f",
   "metadata": {},
   "outputs": [
    {
     "data": {
      "text/plain": [
       "array([[10.,  3.,  5.,  1.],\n",
       "       [ 2.,  4.,  6.,  8.],\n",
       "       [12.,  7.,  0.,  0.],\n",
       "       [ 3.,  8.,  1.,  2.]])"
      ]
     },
     "execution_count": 81,
     "metadata": {},
     "output_type": "execute_result"
    }
   ],
   "source": [
    "X"
   ]
  },
  {
   "cell_type": "code",
   "execution_count": 89,
   "id": "79a23f70-4ec3-481e-b0be-0be895405190",
   "metadata": {},
   "outputs": [
    {
     "data": {
      "text/plain": [
       "array([[18.        ,  6.57924211,  1.        , -1.10162301],\n",
       "       [ 1.76850273, -2.01776695,  1.60999006,  5.52817459],\n",
       "       [-1.5       ,  1.30656296, -1.5       ,  0.5411961 ],\n",
       "       [ 0.34985438, 10.02817459,  2.58029688,  1.51776695]])"
      ]
     },
     "execution_count": 89,
     "metadata": {},
     "output_type": "execute_result"
    }
   ],
   "source": [
    "# DCT Transform of X\n",
    "DCT = jpeg.dct_2d(X)\n",
    "# identical to \n",
    "# DCT = dct(dct(X, axis=0, norm=\"ortho\"), axis= 1, norm=\"ortho\")\n",
    "DCT"
   ]
  },
  {
   "cell_type": "code",
   "execution_count": 91,
   "id": "712c1b9b-631f-4d18-a85a-60e3304b650a",
   "metadata": {},
   "outputs": [],
   "source": [
    "# Only keep first three elements of the zigzag scan\n",
    "zigzag = np.zeros((4,4))\n",
    "\n",
    "zigzag[0][0] = DCT[0][0]\n",
    "zigzag[0][1] = DCT[0][1]\n",
    "zigzag[1][0] = DCT[1][0]"
   ]
  },
  {
   "cell_type": "code",
   "execution_count": 96,
   "id": "ba305928-6126-43c2-9773-56ea7975ad46",
   "metadata": {},
   "outputs": [
    {
     "data": {
      "text/plain": [
       "array([[7., 6., 4., 3.],\n",
       "       [7., 6., 4., 3.],\n",
       "       [6., 5., 3., 2.],\n",
       "       [6., 5., 3., 2.]])"
      ]
     },
     "execution_count": 96,
     "metadata": {},
     "output_type": "execute_result"
    }
   ],
   "source": [
    "# Reverse the DCT using the InverseDCT and round to nearest integer\n",
    "inverseDCT = idct(idct(zigzag,axis=0,norm=\"ortho\"), axis=1, norm=\"ortho\")\n",
    "Y = inverseDCT.round(0)\n",
    "Y"
   ]
  },
  {
   "cell_type": "code",
   "execution_count": 99,
   "id": "7355a034-3c34-4270-9121-d4a79e7e99f0",
   "metadata": {},
   "outputs": [
    {
     "data": {
      "text/plain": [
       "2.75"
      ]
     },
     "execution_count": 99,
     "metadata": {},
     "output_type": "execute_result"
    }
   ],
   "source": [
    "# Mean Absolute Error (or Mean Absolute Difference) of X and Y\n",
    "MAE = np.mean(abs(X - Y))\n",
    "MAE"
   ]
  },
  {
   "cell_type": "code",
   "execution_count": 98,
   "id": "d69f9396-8eb0-4eed-8bf9-36df2cc80927",
   "metadata": {},
   "outputs": [
    {
     "data": {
      "text/plain": [
       "9.75"
      ]
     },
     "execution_count": 98,
     "metadata": {},
     "output_type": "execute_result"
    }
   ],
   "source": [
    "# Mean Square Difference of Matrices X and Y\n",
    "MSD = np.mean((X - Y) ** 2)\n",
    "MSD"
   ]
  },
  {
   "cell_type": "code",
   "execution_count": 106,
   "id": "bfd602b4-6fae-47e7-b1ff-88a7f73c798c",
   "metadata": {},
   "outputs": [
    {
     "data": {
      "text/plain": [
       "8"
      ]
     },
     "execution_count": 106,
     "metadata": {},
     "output_type": "execute_result"
    }
   ],
   "source": [
    "# Pel Difference Classification (Number of differences that are less than our desired threshold)\n",
    "abs_diff = abs(X - Y)\n",
    "threshold = 3\n",
    "\n",
    "PDC = np.sum(abs_diff < threshold)\n",
    "PDC"
   ]
  },
  {
   "cell_type": "code",
   "execution_count": null,
   "id": "2b4f71c1-c0f2-4bae-b02e-7ffc8c3ea79a",
   "metadata": {},
   "outputs": [],
   "source": []
  },
  {
   "cell_type": "markdown",
   "id": "902241b3-f558-466f-8f37-5d5db4a35578",
   "metadata": {},
   "source": [
    "# DHWT of a 4x4 Matrix"
   ]
  },
  {
   "cell_type": "code",
   "execution_count": null,
   "id": "d95d033b-598e-44bb-b48e-f104be11cb2b",
   "metadata": {},
   "outputs": [],
   "source": []
  },
  {
   "cell_type": "code",
   "execution_count": null,
   "id": "48a3750b-a708-4bc8-85fd-fa54fb468a52",
   "metadata": {},
   "outputs": [],
   "source": []
  }
 ],
 "metadata": {
  "kernelspec": {
   "display_name": "Python 3 (ipykernel)",
   "language": "python",
   "name": "python3"
  },
  "language_info": {
   "codemirror_mode": {
    "name": "ipython",
    "version": 3
   },
   "file_extension": ".py",
   "mimetype": "text/x-python",
   "name": "python",
   "nbconvert_exporter": "python",
   "pygments_lexer": "ipython3",
   "version": "3.9.18"
  }
 },
 "nbformat": 4,
 "nbformat_minor": 5
}
